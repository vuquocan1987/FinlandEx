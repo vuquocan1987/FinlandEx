{
 "cells": [
  {
   "cell_type": "code",
   "execution_count": 2,
   "metadata": {},
   "outputs": [],
   "source": [
    "win_conditions = [\n",
    "            [0, 1, 2], [3, 4, 5], [6, 7, 8], # rows\n",
    "            [0, 3, 6], [1, 4, 7], [2, 5, 8], # columns\n",
    "            [0, 4, 8], [2, 4, 6] # diagonals\n",
    "        ]"
   ]
  },
  {
   "cell_type": "code",
   "execution_count": 3,
   "metadata": {},
   "outputs": [],
   "source": [
    "import ipywidgets as widgets\n",
    "from IPython.display import display, clear_output\n",
    "\n",
    "class TicTacToe:\n",
    "    def __init__(self):\n",
    "        self.board = [' ' for _ in range(9)]\n",
    "        self.current_turn = 'X'\n",
    "        self.game_over = False\n",
    "        self.buttons = [widgets.Button(description=' ', layout=widgets.Layout(width='60px', height='60px')) for i in range(9)]\n",
    "        for button in self.buttons:\n",
    "            button.on_click(self.on_button_click)\n",
    "        self.output = widgets.Output()\n",
    "        self.reset_button = widgets.Button(description=\"Restart\")\n",
    "        self.reset_button.on_click(self.restart_game)\n",
    "        self.update_ui()\n",
    "    \n",
    "    def update_ui(self):\n",
    "        row1 = widgets.HBox(self.buttons[0:3])\n",
    "        row2 = widgets.HBox(self.buttons[3:6])\n",
    "        row3 = widgets.HBox(self.buttons[6:9])\n",
    "        display(widgets.VBox([row1, row2, row3, self.reset_button, self.output]))\n",
    "    \n",
    "    def restart_game(self, b):\n",
    "        self.__init__()\n",
    "    \n",
    "    def on_button_click(self, b):\n",
    "        index = self.buttons.index(b)\n",
    "        if self.board[index] == ' ' and not self.game_over:\n",
    "            self.board[index] = self.current_turn\n",
    "            b.description = self.current_turn\n",
    "            if self.check_win():\n",
    "                with self.output:\n",
    "                    clear_output()\n",
    "                    print(f\"{self.current_turn} Wins!\")\n",
    "                self.game_over = True\n",
    "                return\n",
    "            elif ' ' not in self.board:\n",
    "                with self.output:\n",
    "                    clear_output()\n",
    "                    print(\"It's a draw!\")\n",
    "                self.game_over = True\n",
    "                return\n",
    "            self.current_turn = 'O' if self.current_turn == 'X' else 'X'\n",
    "        self.check_game_status()\n",
    "    \n",
    "    def check_game_status(self):\n",
    "        with self.output:\n",
    "            clear_output()\n",
    "            print(f\"{self.current_turn}'s turn\")\n",
    "    \n",
    "    def check_win(self):\n",
    "        \n",
    "        for condition in win_conditions:\n",
    "            if self.board[condition[0]] == self.board[condition[1]] == self.board[condition[2]] != ' ':\n",
    "                return True\n",
    "        return False\n",
    "\n",
    "# Instantiate and display the game\n",
    "\n",
    "# When you click on a button, on_button_click will be called\n",
    "# When you click on the restart button, restart_game will be called"
   ]
  },
  {
   "cell_type": "code",
   "execution_count": 4,
   "metadata": {},
   "outputs": [
    {
     "data": {
      "application/vnd.jupyter.widget-view+json": {
       "model_id": "c139be45d8aa41a195d28eefa0a195cd",
       "version_major": 2,
       "version_minor": 0
      },
      "text/plain": [
       "VBox(children=(HBox(children=(Button(description=' ', layout=Layout(height='60px', width='60px'), style=Button…"
      ]
     },
     "metadata": {},
     "output_type": "display_data"
    },
    {
     "data": {
      "application/vnd.jupyter.widget-view+json": {
       "model_id": "3866966ad8ef4f52a4c679e5660a996e",
       "version_major": 2,
       "version_minor": 0
      },
      "text/plain": [
       "VBox(children=(HBox(children=(Button(description=' ', layout=Layout(height='60px', width='60px'), style=Button…"
      ]
     },
     "metadata": {},
     "output_type": "display_data"
    }
   ],
   "source": [
    "game = TicTacToe()\n"
   ]
  },
  {
   "cell_type": "code",
   "execution_count": null,
   "metadata": {},
   "outputs": [],
   "source": []
  }
 ],
 "metadata": {
  "kernelspec": {
   "display_name": "ml",
   "language": "python",
   "name": "ml"
  },
  "language_info": {
   "codemirror_mode": {
    "name": "ipython",
    "version": 3
   },
   "file_extension": ".py",
   "mimetype": "text/x-python",
   "name": "python",
   "nbconvert_exporter": "python",
   "pygments_lexer": "ipython3",
   "version": "3.9.16"
  }
 },
 "nbformat": 4,
 "nbformat_minor": 2
}
