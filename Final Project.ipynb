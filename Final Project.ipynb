{
 "cells": [
  {
   "cell_type": "markdown",
   "id": "0989ce48",
   "metadata": {},
   "source": [
    "# Final Project: Tic-Tac-Toe\n",
    "\n",
    "## 04/03/2024\n",
    "\n",
    "## Group 8:\n",
    "\n",
    "## Nape vinthanage Chani Anjalee\n",
    "\n",
    "## An Vu\n",
    "\n",
    "## Parimal Khanpara\n",
    "\n",
    "## Yasasvie Asara\n",
    "\n",
    "## Amber Ward\n",
    "\n"
   ]
  },
  {
   "cell_type": "markdown",
   "id": "d4fb3630",
   "metadata": {},
   "source": [
    "# Here is a brief Description of our project: \n",
    "\n",
    "## This project is based on the game of Tic-Tac-Toe. Our team members collaborated and communicated through zoom,whatsapp, trello, and github to make this project into what it is today. This is a two player game that runs off of user input.  For our first step we defined the conditions needed to be able to win the game in a list using brackets. Our second step was to import displays and widgets to give us the interactive squares for the game. After this, we  defined the functions of this project and used classes and subclasses to make this game interactive to the user. Then, we  used for, if, and elif loops and conditions to continue this game until there was a clear and defined winner. Finally, we called the game in a seperate cell for the user and a friend to be able to play. "
   ]
  },
  {
   "cell_type": "code",
   "execution_count": 1,
   "id": "e284ab2d",
   "metadata": {},
   "outputs": [],
   "source": [
    "win_conditions = [\n",
    "            [0, 1, 2], [3, 4, 5], [6, 7, 8], # rows\n",
    "            [0, 3, 6], [1, 4, 7], [2, 5, 8], # columns\n",
    "            [0, 4, 8], [2, 4, 6] # diagonals\n",
    "        ]\n",
    "# In this cell we defined our rows, columns, and the diagonal portions of the winning conditions of the game. We did this form the start so that we could have our objectives easily identified in the system. "
   ]
  },
  {
   "cell_type": "code",
   "execution_count": 2,
   "id": "91a1ee47",
   "metadata": {},
   "outputs": [],
   "source": [
    "import ipywidgets as widgets  # Importing our widgets and displays to allow for the square interactive feature of our game\n",
    "from IPython.display import display, clear_output\n",
    "\n",
    "class TicTacToe:  # In this portion we defined our first set of classes and subclasses for the game.\n",
    "    def __init__(self):\n",
    "        self.board = [' ' for _ in range(9)]\n",
    "        self.current_turn = 'X'  # We also set the parameters for the boxes and defined our first player as X and the second player as O. \n",
    "        self.game_over = False\n",
    "        self.buttons = [widgets.Button(description=' ', layout=widgets.Layout(width='60px', height='60px')) for i in range(9)]  # After this,  we used the for and in conditions allow the user to be able to click on the boxes for the respective turns. \n",
    "        for button in self.buttons:\n",
    "            button.on_click(self.on_button_click)\n",
    "       \n",
    "        self.output = widgets.Output()  #Finally, we further defined the portions of the self class.\n",
    "        self.reset_button = widgets.Button(description=\"Restart\")\n",
    "        self.reset_button.on_click(self.restart_game)\n",
    "        self.update_ui()\n",
    "        \n",
    "    def update_ui(self):\n",
    "        row1 = widgets.HBox(self.buttons[0:3]) # We defined the sub class update_ui of the parent self class which is what allows for the interactive blocks.\n",
    "        row2 = widgets.HBox(self.buttons[3:6]) #further definition of the subclasses. \n",
    "        row3 = widgets.HBox(self.buttons[6:9])\n",
    "        display(widgets.VBox([row1, row2, row3, self.reset_button, self.output])) # After defining the subclasses we allowed for the blocks to be displayed.\n",
    "        \n",
    "    def restart_game(self, b):\n",
    "        self.__init__()\n",
    "    # This portion is where the game will need to restart once the game has ended if the players choose to play again.\n",
    "    def on_button_click(self, b): # If the game is not over then we used the if-with condition to allow for the game to continue. \n",
    "        index = self.buttons.index(b)\n",
    "        if self.board[index] == ' ' and not self.game_over:\n",
    "            self.board[index] = self.current_turn\n",
    "            b.description = self.current_turn\n",
    "            if self.check_win():  # This is where we define and list the conditions needed for either player to win the game using an if-with conditional structure dependant on the entries that the users input. \n",
    "                with self.output:\n",
    "                    clear_output()\n",
    "                    print(f\"{self.current_turn} Wins!\")\n",
    "                self.game_over = True\n",
    "                return\n",
    "            elif ' ' not in self.board: # However, we also took into account the possibility for a draw so we used an if-elif loop to define and list the conditions that would be necessary for a draw. \n",
    "                with self.output:\n",
    "                    clear_output()\n",
    "                    print(\"It's a draw!\")\n",
    "                self.game_over = True\n",
    "                return\n",
    "            self.current_turn = 'O' if self.current_turn == 'X' else 'X' # This was where we further define who our players are and use an if-elif loop to determine who's turn we are on based on the previous conditions. \n",
    "        self.check_game_status()\n",
    "    \n",
    "    def check_game_status(self): # This is further definition of the game and the players where we tell the game to tell the players who's turn we are on. \n",
    "        with self.output:\n",
    "            clear_output()\n",
    "            print(f\"{self.current_turn}'s turn\")\n",
    "    \n",
    "    def check_win(self):\n",
    "        \n",
    "        for condition in win_conditions:\n",
    "            if self.board[condition[0]] == self.board[condition[1]] == self.board[condition[2]] != ' ':\n",
    "                return True\n",
    "        return False\n",
    "    # Finally, this is where we check to see if all of the winning conditions have been met and we display the game along with the winning player. \n",
    "    # This is where we Instantiate and display the game. \n",
    "\n",
    "# When you click on a button in the game the, on_button_click will be called which is what allows the users to interact with the squares of the game. \n",
    "# When you click on the restart button in the game , restart_game will be called allowing for another round."
   ]
  },
  {
   "cell_type": "code",
   "execution_count": 3,
   "id": "c93c7341",
   "metadata": {},
   "outputs": [
    {
     "data": {
      "application/vnd.jupyter.widget-view+json": {
       "model_id": "d10039e7e14d43e7a7241b0284548034",
       "version_major": 2,
       "version_minor": 0
      },
      "text/plain": [
       "VBox(children=(HBox(children=(Button(description=' ', layout=Layout(height='60px', width='60px'), style=Button…"
      ]
     },
     "metadata": {},
     "output_type": "display_data"
    }
   ],
   "source": [
    "game =TicTacToe()"
   ]
  },
  {
   "cell_type": "code",
   "execution_count": null,
   "id": "3dc01eb7",
   "metadata": {},
   "outputs": [],
   "source": []
  }
 ],
 "metadata": {
  "kernelspec": {
   "display_name": "Python 3 (ipykernel)",
   "language": "python",
   "name": "python3"
  },
  "language_info": {
   "codemirror_mode": {
    "name": "ipython",
    "version": 3
   },
   "file_extension": ".py",
   "mimetype": "text/x-python",
   "name": "python",
   "nbconvert_exporter": "python",
   "pygments_lexer": "ipython3",
   "version": "3.11.5"
  }
 },
 "nbformat": 4,
 "nbformat_minor": 5
}
